{
 "cells": [
  {
   "cell_type": "markdown",
   "metadata": {},
   "source": [
    "![image info](https://raw.githubusercontent.com/albahnsen/MIAD_ML_and_NLP/main/images/banner_1.png)"
   ]
  },
  {
   "cell_type": "markdown",
   "metadata": {},
   "source": [
    "# Taller: Construcción e implementación de modelos Bagging, Random Forest y XGBoost\n",
    "\n",
    "En este taller podrán poner en práctica sus conocimientos sobre la construcción e implementación de modelos de Bagging, Random Forest y XGBoost. El taller está constituido por 8 puntos, en los cuales deberan seguir las intrucciones de cada numeral para su desarrollo."
   ]
  },
  {
   "cell_type": "markdown",
   "metadata": {},
   "source": [
    "## Datos predicción precio de automóviles\n",
    "\n",
    "En este taller se usará el conjunto de datos de Car Listings de Kaggle donde cada observación representa el precio de un automóvil teniendo en cuenta distintas variables como año, marca, modelo, entre otras. El objetivo es predecir el precio del automóvil. Para más detalles puede visitar el siguiente enlace: [datos](https://www.kaggle.com/jpayne/852k-used-car-listings)."
   ]
  },
  {
   "cell_type": "code",
   "execution_count": 4,
   "metadata": {},
   "outputs": [],
   "source": [
    "import warnings\n",
    "warnings.filterwarnings('ignore')"
   ]
  },
  {
   "cell_type": "code",
   "execution_count": 5,
   "metadata": {},
   "outputs": [
    {
     "data": {
      "text/html": [
       "<div>\n",
       "<style scoped>\n",
       "    .dataframe tbody tr th:only-of-type {\n",
       "        vertical-align: middle;\n",
       "    }\n",
       "\n",
       "    .dataframe tbody tr th {\n",
       "        vertical-align: top;\n",
       "    }\n",
       "\n",
       "    .dataframe thead th {\n",
       "        text-align: right;\n",
       "    }\n",
       "</style>\n",
       "<table border=\"1\" class=\"dataframe\">\n",
       "  <thead>\n",
       "    <tr style=\"text-align: right;\">\n",
       "      <th></th>\n",
       "      <th>Price</th>\n",
       "      <th>Year</th>\n",
       "      <th>Mileage</th>\n",
       "      <th>M_Camry</th>\n",
       "      <th>M_Camry4dr</th>\n",
       "      <th>M_CamryBase</th>\n",
       "      <th>M_CamryL</th>\n",
       "      <th>M_CamryLE</th>\n",
       "      <th>M_CamrySE</th>\n",
       "      <th>M_CamryXLE</th>\n",
       "    </tr>\n",
       "  </thead>\n",
       "  <tbody>\n",
       "    <tr>\n",
       "      <th>7</th>\n",
       "      <td>21995</td>\n",
       "      <td>2014</td>\n",
       "      <td>6480</td>\n",
       "      <td>False</td>\n",
       "      <td>False</td>\n",
       "      <td>False</td>\n",
       "      <td>True</td>\n",
       "      <td>False</td>\n",
       "      <td>False</td>\n",
       "      <td>False</td>\n",
       "    </tr>\n",
       "    <tr>\n",
       "      <th>11</th>\n",
       "      <td>13995</td>\n",
       "      <td>2014</td>\n",
       "      <td>39972</td>\n",
       "      <td>False</td>\n",
       "      <td>False</td>\n",
       "      <td>False</td>\n",
       "      <td>False</td>\n",
       "      <td>True</td>\n",
       "      <td>False</td>\n",
       "      <td>False</td>\n",
       "    </tr>\n",
       "    <tr>\n",
       "      <th>167</th>\n",
       "      <td>17941</td>\n",
       "      <td>2016</td>\n",
       "      <td>18989</td>\n",
       "      <td>False</td>\n",
       "      <td>False</td>\n",
       "      <td>False</td>\n",
       "      <td>False</td>\n",
       "      <td>False</td>\n",
       "      <td>True</td>\n",
       "      <td>False</td>\n",
       "    </tr>\n",
       "    <tr>\n",
       "      <th>225</th>\n",
       "      <td>12493</td>\n",
       "      <td>2014</td>\n",
       "      <td>51330</td>\n",
       "      <td>False</td>\n",
       "      <td>False</td>\n",
       "      <td>False</td>\n",
       "      <td>True</td>\n",
       "      <td>False</td>\n",
       "      <td>False</td>\n",
       "      <td>False</td>\n",
       "    </tr>\n",
       "    <tr>\n",
       "      <th>270</th>\n",
       "      <td>7994</td>\n",
       "      <td>2007</td>\n",
       "      <td>116065</td>\n",
       "      <td>False</td>\n",
       "      <td>True</td>\n",
       "      <td>False</td>\n",
       "      <td>False</td>\n",
       "      <td>False</td>\n",
       "      <td>False</td>\n",
       "      <td>False</td>\n",
       "    </tr>\n",
       "  </tbody>\n",
       "</table>\n",
       "</div>"
      ],
      "text/plain": [
       "     Price  Year  Mileage  M_Camry  M_Camry4dr  M_CamryBase  M_CamryL  \\\n",
       "7    21995  2014     6480    False       False        False      True   \n",
       "11   13995  2014    39972    False       False        False     False   \n",
       "167  17941  2016    18989    False       False        False     False   \n",
       "225  12493  2014    51330    False       False        False      True   \n",
       "270   7994  2007   116065    False        True        False     False   \n",
       "\n",
       "     M_CamryLE  M_CamrySE  M_CamryXLE  \n",
       "7        False      False       False  \n",
       "11        True      False       False  \n",
       "167      False       True       False  \n",
       "225      False      False       False  \n",
       "270      False      False       False  "
      ]
     },
     "execution_count": 5,
     "metadata": {},
     "output_type": "execute_result"
    }
   ],
   "source": [
    "# Importación de librerías\n",
    "%matplotlib inline\n",
    "import pandas as pd\n",
    "\n",
    "# Lectura de la información de archivo .csv\n",
    "data = pd.read_csv('https://raw.githubusercontent.com/albahnsen/MIAD_ML_and_NLP/main/datasets/dataTrain_carListings.zip')\n",
    "\n",
    "# Preprocesamiento de datos para el taller\n",
    "data = data.loc[data['Model'].str.contains('Camry')].drop(['Make', 'State'], axis=1)\n",
    "data = data.join(pd.get_dummies(data['Model'], prefix='M'))\n",
    "data = data.drop(['Model'], axis=1)\n",
    "\n",
    "# Visualización dataset\n",
    "data.head()"
   ]
  },
  {
   "cell_type": "code",
   "execution_count": 6,
   "metadata": {},
   "outputs": [],
   "source": [
    "# Separación de variables predictoras (X) y variable de interés (y)\n",
    "y = data['Price']\n",
    "X = data.drop(['Price'], axis=1)"
   ]
  },
  {
   "cell_type": "code",
   "execution_count": 7,
   "metadata": {},
   "outputs": [],
   "source": [
    "# Separación de datos en set de entrenamiento y test\n",
    "from sklearn.model_selection import train_test_split\n",
    "X_train, X_test, y_train, y_test = train_test_split(X, y, test_size=0.33, random_state=42)"
   ]
  },
  {
   "cell_type": "markdown",
   "metadata": {},
   "source": [
    "### Punto 1 - Árbol de decisión manual\n",
    "\n",
    "En la celda 1 creen un árbol de decisión **manualmente**  que considere los set de entrenamiento y test definidos anteriormente y presenten el RMSE y MAE del modelo en el set de test."
   ]
  },
  {
   "cell_type": "code",
   "execution_count": 9,
   "metadata": {},
   "outputs": [],
   "source": [
    "# Celda 1\n"
   ]
  },
  {
   "cell_type": "markdown",
   "metadata": {},
   "source": [
    "### Punto 2 - Bagging manual\n",
    "\n",
    "En la celda 2 creen un modelo bagging **manualmente** con 10 árboles de regresión y comenten sobre el desempeño del modelo."
   ]
  },
  {
   "cell_type": "code",
   "execution_count": 11,
   "metadata": {},
   "outputs": [],
   "source": [
    "import numpy as np"
   ]
  },
  {
   "cell_type": "code",
   "execution_count": 12,
   "metadata": {},
   "outputs": [
    {
     "name": "stdout",
     "output_type": "stream",
     "text": [
      "Muestra 0 de tamaño 7031: \n",
      "[3582 3454 1346 ...  826  801 5657]\n",
      "Muestra 1 de tamaño 7031: \n",
      "[6962 3408 2553 ... 6611  877 6412]\n",
      "Muestra 2 de tamaño 7031: \n",
      "[1917 3131  384 ... 2876 6449 6557]\n",
      "Muestra 3 de tamaño 7031: \n",
      "[3849 4565 6820 ... 6835 4643  639]\n",
      "Muestra 4 de tamaño 7031: \n",
      "[2468 3608 1367 ... 3108 2961 4357]\n",
      "Muestra 5 de tamaño 7031: \n",
      "[3142 1537 5966 ... 3224 6922 3396]\n",
      "Muestra 6 de tamaño 7031: \n",
      "[6588 3753 1786 ... 2131 4627 5672]\n",
      "Muestra 7 de tamaño 7031: \n",
      "[1289 3776  981 ... 1891 6034 6165]\n",
      "Muestra 8 de tamaño 7031: \n",
      "[6079 3819 6976 ... 6478 2225 5072]\n",
      "Muestra 9 de tamaño 7031: \n",
      "[3952 3276  896 ... 4589 1964  893]\n"
     ]
    }
   ],
   "source": [
    "# Celda 2\n",
    "\n",
    "# Bagging manual\n",
    "\n",
    "# Paso 1: hacer muestras con bootstrap para cada arbol, del mismo tamaño de observaciones que en train\n",
    "observaciones_por_muestra = X_train.shape[0]\n",
    "cantidad_de_muestras = 10 # 10 arboles\n",
    "\n",
    "# list comprehension para crear las 10 muestras\n",
    "np.random.seed(123)\n",
    "muestras = [np.random.choice(a=observaciones_por_muestra, size=observaciones_por_muestra, replace=True) for muestra in range(cantidad_de_muestras)]\n",
    "\n",
    "for i in range(len(muestras)):\n",
    "    print(f\"Muestra {i} de tamaño {len(muestras[i])}: \")\n",
    "    print(muestras[i])"
   ]
  },
  {
   "cell_type": "code",
   "execution_count": 13,
   "metadata": {},
   "outputs": [
    {
     "data": {
      "text/html": [
       "<div>\n",
       "<style scoped>\n",
       "    .dataframe tbody tr th:only-of-type {\n",
       "        vertical-align: middle;\n",
       "    }\n",
       "\n",
       "    .dataframe tbody tr th {\n",
       "        vertical-align: top;\n",
       "    }\n",
       "\n",
       "    .dataframe thead th {\n",
       "        text-align: right;\n",
       "    }\n",
       "</style>\n",
       "<table border=\"1\" class=\"dataframe\">\n",
       "  <thead>\n",
       "    <tr style=\"text-align: right;\">\n",
       "      <th></th>\n",
       "      <th>0</th>\n",
       "      <th>1</th>\n",
       "      <th>2</th>\n",
       "      <th>3</th>\n",
       "      <th>4</th>\n",
       "      <th>5</th>\n",
       "      <th>6</th>\n",
       "      <th>7</th>\n",
       "      <th>8</th>\n",
       "      <th>9</th>\n",
       "    </tr>\n",
       "  </thead>\n",
       "  <tbody>\n",
       "    <tr>\n",
       "      <th>257343</th>\n",
       "      <td>NaN</td>\n",
       "      <td>NaN</td>\n",
       "      <td>NaN</td>\n",
       "      <td>NaN</td>\n",
       "      <td>NaN</td>\n",
       "      <td>NaN</td>\n",
       "      <td>NaN</td>\n",
       "      <td>NaN</td>\n",
       "      <td>NaN</td>\n",
       "      <td>NaN</td>\n",
       "    </tr>\n",
       "    <tr>\n",
       "      <th>326011</th>\n",
       "      <td>NaN</td>\n",
       "      <td>NaN</td>\n",
       "      <td>NaN</td>\n",
       "      <td>NaN</td>\n",
       "      <td>NaN</td>\n",
       "      <td>NaN</td>\n",
       "      <td>NaN</td>\n",
       "      <td>NaN</td>\n",
       "      <td>NaN</td>\n",
       "      <td>NaN</td>\n",
       "    </tr>\n",
       "    <tr>\n",
       "      <th>242354</th>\n",
       "      <td>NaN</td>\n",
       "      <td>NaN</td>\n",
       "      <td>NaN</td>\n",
       "      <td>NaN</td>\n",
       "      <td>NaN</td>\n",
       "      <td>NaN</td>\n",
       "      <td>NaN</td>\n",
       "      <td>NaN</td>\n",
       "      <td>NaN</td>\n",
       "      <td>NaN</td>\n",
       "    </tr>\n",
       "    <tr>\n",
       "      <th>266376</th>\n",
       "      <td>NaN</td>\n",
       "      <td>NaN</td>\n",
       "      <td>NaN</td>\n",
       "      <td>NaN</td>\n",
       "      <td>NaN</td>\n",
       "      <td>NaN</td>\n",
       "      <td>NaN</td>\n",
       "      <td>NaN</td>\n",
       "      <td>NaN</td>\n",
       "      <td>NaN</td>\n",
       "    </tr>\n",
       "    <tr>\n",
       "      <th>396954</th>\n",
       "      <td>NaN</td>\n",
       "      <td>NaN</td>\n",
       "      <td>NaN</td>\n",
       "      <td>NaN</td>\n",
       "      <td>NaN</td>\n",
       "      <td>NaN</td>\n",
       "      <td>NaN</td>\n",
       "      <td>NaN</td>\n",
       "      <td>NaN</td>\n",
       "      <td>NaN</td>\n",
       "    </tr>\n",
       "  </tbody>\n",
       "</table>\n",
       "</div>"
      ],
      "text/plain": [
       "          0    1    2    3    4    5    6    7    8    9\n",
       "257343  NaN  NaN  NaN  NaN  NaN  NaN  NaN  NaN  NaN  NaN\n",
       "326011  NaN  NaN  NaN  NaN  NaN  NaN  NaN  NaN  NaN  NaN\n",
       "242354  NaN  NaN  NaN  NaN  NaN  NaN  NaN  NaN  NaN  NaN\n",
       "266376  NaN  NaN  NaN  NaN  NaN  NaN  NaN  NaN  NaN  NaN\n",
       "396954  NaN  NaN  NaN  NaN  NaN  NaN  NaN  NaN  NaN  NaN"
      ]
     },
     "execution_count": 13,
     "metadata": {},
     "output_type": "execute_result"
    }
   ],
   "source": [
    "# Paso 2 crear los arboles con las diferentes muestras creadas en el paso anterior\n",
    "from sklearn.tree import DecisionTreeRegressor\n",
    "\n",
    "# definicion del objeto de decision tree reg\n",
    "treereg = DecisionTreeRegressor(max_depth=None, random_state=123)\n",
    "\n",
    "# dataframe para guardar las predicciones (columnas = cantidad de arboles, filas = los indices de las observaciones en test)\n",
    "y_pred_bag_manual = pd.DataFrame(index=X_test.index, columns=list(range(cantidad_de_muestras)))\n",
    "\n",
    "y_pred_bag_manual.head()"
   ]
  },
  {
   "cell_type": "code",
   "execution_count": 14,
   "metadata": {},
   "outputs": [
    {
     "data": {
      "text/html": [
       "<div>\n",
       "<style scoped>\n",
       "    .dataframe tbody tr th:only-of-type {\n",
       "        vertical-align: middle;\n",
       "    }\n",
       "\n",
       "    .dataframe tbody tr th {\n",
       "        vertical-align: top;\n",
       "    }\n",
       "\n",
       "    .dataframe thead th {\n",
       "        text-align: right;\n",
       "    }\n",
       "</style>\n",
       "<table border=\"1\" class=\"dataframe\">\n",
       "  <thead>\n",
       "    <tr style=\"text-align: right;\">\n",
       "      <th></th>\n",
       "      <th>0</th>\n",
       "      <th>1</th>\n",
       "      <th>2</th>\n",
       "      <th>3</th>\n",
       "      <th>4</th>\n",
       "      <th>5</th>\n",
       "      <th>6</th>\n",
       "      <th>7</th>\n",
       "      <th>8</th>\n",
       "      <th>9</th>\n",
       "    </tr>\n",
       "  </thead>\n",
       "  <tbody>\n",
       "    <tr>\n",
       "      <th>257343</th>\n",
       "      <td>14980.0</td>\n",
       "      <td>13993.0</td>\n",
       "      <td>13649.0</td>\n",
       "      <td>13649.0</td>\n",
       "      <td>11788.0</td>\n",
       "      <td>13649.0</td>\n",
       "      <td>13993.0</td>\n",
       "      <td>13990.0</td>\n",
       "      <td>13990.0</td>\n",
       "      <td>13993.0</td>\n",
       "    </tr>\n",
       "    <tr>\n",
       "      <th>326011</th>\n",
       "      <td>6492.0</td>\n",
       "      <td>5995.0</td>\n",
       "      <td>5995.0</td>\n",
       "      <td>6987.0</td>\n",
       "      <td>5995.0</td>\n",
       "      <td>5995.0</td>\n",
       "      <td>5995.0</td>\n",
       "      <td>6987.0</td>\n",
       "      <td>5995.0</td>\n",
       "      <td>5995.0</td>\n",
       "    </tr>\n",
       "    <tr>\n",
       "      <th>242354</th>\n",
       "      <td>16491.0</td>\n",
       "      <td>16995.0</td>\n",
       "      <td>16491.0</td>\n",
       "      <td>15997.0</td>\n",
       "      <td>15997.0</td>\n",
       "      <td>16491.0</td>\n",
       "      <td>17591.0</td>\n",
       "      <td>16995.0</td>\n",
       "      <td>17404.0</td>\n",
       "      <td>16491.0</td>\n",
       "    </tr>\n",
       "    <tr>\n",
       "      <th>266376</th>\n",
       "      <td>21990.0</td>\n",
       "      <td>21990.0</td>\n",
       "      <td>22500.0</td>\n",
       "      <td>21990.0</td>\n",
       "      <td>15900.0</td>\n",
       "      <td>21990.0</td>\n",
       "      <td>22500.0</td>\n",
       "      <td>21990.0</td>\n",
       "      <td>15813.0</td>\n",
       "      <td>21990.0</td>\n",
       "    </tr>\n",
       "    <tr>\n",
       "      <th>396954</th>\n",
       "      <td>15988.0</td>\n",
       "      <td>16951.0</td>\n",
       "      <td>15988.0</td>\n",
       "      <td>15988.0</td>\n",
       "      <td>15988.0</td>\n",
       "      <td>17900.0</td>\n",
       "      <td>16951.0</td>\n",
       "      <td>16951.0</td>\n",
       "      <td>15988.0</td>\n",
       "      <td>15988.0</td>\n",
       "    </tr>\n",
       "    <tr>\n",
       "      <th>...</th>\n",
       "      <td>...</td>\n",
       "      <td>...</td>\n",
       "      <td>...</td>\n",
       "      <td>...</td>\n",
       "      <td>...</td>\n",
       "      <td>...</td>\n",
       "      <td>...</td>\n",
       "      <td>...</td>\n",
       "      <td>...</td>\n",
       "      <td>...</td>\n",
       "    </tr>\n",
       "    <tr>\n",
       "      <th>144298</th>\n",
       "      <td>13836.0</td>\n",
       "      <td>14800.0</td>\n",
       "      <td>14800.0</td>\n",
       "      <td>14800.0</td>\n",
       "      <td>14800.0</td>\n",
       "      <td>14681.0</td>\n",
       "      <td>14800.0</td>\n",
       "      <td>14800.0</td>\n",
       "      <td>13836.0</td>\n",
       "      <td>13836.0</td>\n",
       "    </tr>\n",
       "    <tr>\n",
       "      <th>364521</th>\n",
       "      <td>15999.0</td>\n",
       "      <td>14995.0</td>\n",
       "      <td>15999.0</td>\n",
       "      <td>16900.0</td>\n",
       "      <td>15999.0</td>\n",
       "      <td>15999.0</td>\n",
       "      <td>17300.0</td>\n",
       "      <td>15999.0</td>\n",
       "      <td>16900.0</td>\n",
       "      <td>15000.0</td>\n",
       "    </tr>\n",
       "    <tr>\n",
       "      <th>120072</th>\n",
       "      <td>23533.0</td>\n",
       "      <td>23533.0</td>\n",
       "      <td>20000.0</td>\n",
       "      <td>17700.0</td>\n",
       "      <td>17700.0</td>\n",
       "      <td>23533.0</td>\n",
       "      <td>17700.0</td>\n",
       "      <td>23533.0</td>\n",
       "      <td>23533.0</td>\n",
       "      <td>20000.0</td>\n",
       "    </tr>\n",
       "    <tr>\n",
       "      <th>99878</th>\n",
       "      <td>12989.0</td>\n",
       "      <td>12995.0</td>\n",
       "      <td>12989.0</td>\n",
       "      <td>12995.0</td>\n",
       "      <td>12991.0</td>\n",
       "      <td>12991.0</td>\n",
       "      <td>10995.0</td>\n",
       "      <td>12991.0</td>\n",
       "      <td>12991.0</td>\n",
       "      <td>12893.0</td>\n",
       "    </tr>\n",
       "    <tr>\n",
       "      <th>387162</th>\n",
       "      <td>10991.0</td>\n",
       "      <td>11314.0</td>\n",
       "      <td>12999.0</td>\n",
       "      <td>12995.0</td>\n",
       "      <td>9995.0</td>\n",
       "      <td>11995.0</td>\n",
       "      <td>11985.0</td>\n",
       "      <td>10991.0</td>\n",
       "      <td>11314.0</td>\n",
       "      <td>14995.0</td>\n",
       "    </tr>\n",
       "  </tbody>\n",
       "</table>\n",
       "<p>3464 rows × 10 columns</p>\n",
       "</div>"
      ],
      "text/plain": [
       "              0        1        2        3        4        5        6  \\\n",
       "257343  14980.0  13993.0  13649.0  13649.0  11788.0  13649.0  13993.0   \n",
       "326011   6492.0   5995.0   5995.0   6987.0   5995.0   5995.0   5995.0   \n",
       "242354  16491.0  16995.0  16491.0  15997.0  15997.0  16491.0  17591.0   \n",
       "266376  21990.0  21990.0  22500.0  21990.0  15900.0  21990.0  22500.0   \n",
       "396954  15988.0  16951.0  15988.0  15988.0  15988.0  17900.0  16951.0   \n",
       "...         ...      ...      ...      ...      ...      ...      ...   \n",
       "144298  13836.0  14800.0  14800.0  14800.0  14800.0  14681.0  14800.0   \n",
       "364521  15999.0  14995.0  15999.0  16900.0  15999.0  15999.0  17300.0   \n",
       "120072  23533.0  23533.0  20000.0  17700.0  17700.0  23533.0  17700.0   \n",
       "99878   12989.0  12995.0  12989.0  12995.0  12991.0  12991.0  10995.0   \n",
       "387162  10991.0  11314.0  12999.0  12995.0   9995.0  11995.0  11985.0   \n",
       "\n",
       "              7        8        9  \n",
       "257343  13990.0  13990.0  13993.0  \n",
       "326011   6987.0   5995.0   5995.0  \n",
       "242354  16995.0  17404.0  16491.0  \n",
       "266376  21990.0  15813.0  21990.0  \n",
       "396954  16951.0  15988.0  15988.0  \n",
       "...         ...      ...      ...  \n",
       "144298  14800.0  13836.0  13836.0  \n",
       "364521  15999.0  16900.0  15000.0  \n",
       "120072  23533.0  23533.0  20000.0  \n",
       "99878   12991.0  12991.0  12893.0  \n",
       "387162  10991.0  11314.0  14995.0  \n",
       "\n",
       "[3464 rows x 10 columns]"
      ]
     },
     "execution_count": 14,
     "metadata": {},
     "output_type": "execute_result"
    }
   ],
   "source": [
    "for i, sample in enumerate(muestras):\n",
    "    # seleccionar por posicion (iloc) las observaciones en X_train\n",
    "    xtrain = X_train.iloc[sample, :]\n",
    "    ytrain = y_train.iloc[sample]\n",
    "    treereg.fit(xtrain, ytrain)\n",
    "    y_pred_bag_manual.iloc[:,i] = treereg.predict(X_test)\n",
    "\n",
    "y_pred_bag_manual"
   ]
  },
  {
   "cell_type": "code",
   "execution_count": 19,
   "metadata": {},
   "outputs": [
    {
     "name": "stdout",
     "output_type": "stream",
     "text": [
      "Arbol 0 tiene un error: 2141.613353645869\n",
      "Arbol 1 tiene un error: 2136.3519863123465\n",
      "Arbol 2 tiene un error: 2122.718759132052\n",
      "Arbol 3 tiene un error: 2087.278992468617\n",
      "Arbol 4 tiene un error: 2168.518742842026\n",
      "Arbol 5 tiene un error: 2113.8811455834793\n",
      "Arbol 6 tiene un error: 2127.933470769012\n",
      "Arbol 7 tiene un error: 2184.414847251443\n",
      "Arbol 8 tiene un error: 2138.1071697514985\n",
      "Arbol 9 tiene un error: 2132.097520859104\n"
     ]
    }
   ],
   "source": [
    "# desempeño de cada arbol\n",
    "from sklearn.metrics import mean_squared_error\n",
    "\n",
    "errores_bag_manual = []\n",
    "for i in range(cantidad_de_muestras):\n",
    "    error = np.sqrt(mean_squared_error(y_pred_bag_manual.iloc[:,i], y_test))\n",
    "    errores_bag_manual.append(error)\n",
    "    print(f\"Arbol {i} tiene un error: {error}\")"
   ]
  },
  {
   "cell_type": "code",
   "execution_count": 20,
   "metadata": {},
   "outputs": [
    {
     "data": {
      "text/html": [
       "<div>\n",
       "<style scoped>\n",
       "    .dataframe tbody tr th:only-of-type {\n",
       "        vertical-align: middle;\n",
       "    }\n",
       "\n",
       "    .dataframe tbody tr th {\n",
       "        vertical-align: top;\n",
       "    }\n",
       "\n",
       "    .dataframe thead th {\n",
       "        text-align: right;\n",
       "    }\n",
       "</style>\n",
       "<table border=\"1\" class=\"dataframe\">\n",
       "  <thead>\n",
       "    <tr style=\"text-align: right;\">\n",
       "      <th></th>\n",
       "      <th>0</th>\n",
       "      <th>1</th>\n",
       "      <th>2</th>\n",
       "      <th>3</th>\n",
       "      <th>4</th>\n",
       "      <th>5</th>\n",
       "      <th>6</th>\n",
       "      <th>7</th>\n",
       "      <th>8</th>\n",
       "      <th>9</th>\n",
       "      <th>final</th>\n",
       "    </tr>\n",
       "  </thead>\n",
       "  <tbody>\n",
       "    <tr>\n",
       "      <th>257343</th>\n",
       "      <td>14980.0</td>\n",
       "      <td>13993.0</td>\n",
       "      <td>13649.0</td>\n",
       "      <td>13649.0</td>\n",
       "      <td>11788.0</td>\n",
       "      <td>13649.0</td>\n",
       "      <td>13993.0</td>\n",
       "      <td>13990.0</td>\n",
       "      <td>13990.0</td>\n",
       "      <td>13993.0</td>\n",
       "      <td>13767.4</td>\n",
       "    </tr>\n",
       "    <tr>\n",
       "      <th>326011</th>\n",
       "      <td>6492.0</td>\n",
       "      <td>5995.0</td>\n",
       "      <td>5995.0</td>\n",
       "      <td>6987.0</td>\n",
       "      <td>5995.0</td>\n",
       "      <td>5995.0</td>\n",
       "      <td>5995.0</td>\n",
       "      <td>6987.0</td>\n",
       "      <td>5995.0</td>\n",
       "      <td>5995.0</td>\n",
       "      <td>6243.1</td>\n",
       "    </tr>\n",
       "    <tr>\n",
       "      <th>242354</th>\n",
       "      <td>16491.0</td>\n",
       "      <td>16995.0</td>\n",
       "      <td>16491.0</td>\n",
       "      <td>15997.0</td>\n",
       "      <td>15997.0</td>\n",
       "      <td>16491.0</td>\n",
       "      <td>17591.0</td>\n",
       "      <td>16995.0</td>\n",
       "      <td>17404.0</td>\n",
       "      <td>16491.0</td>\n",
       "      <td>16694.3</td>\n",
       "    </tr>\n",
       "    <tr>\n",
       "      <th>266376</th>\n",
       "      <td>21990.0</td>\n",
       "      <td>21990.0</td>\n",
       "      <td>22500.0</td>\n",
       "      <td>21990.0</td>\n",
       "      <td>15900.0</td>\n",
       "      <td>21990.0</td>\n",
       "      <td>22500.0</td>\n",
       "      <td>21990.0</td>\n",
       "      <td>15813.0</td>\n",
       "      <td>21990.0</td>\n",
       "      <td>20865.3</td>\n",
       "    </tr>\n",
       "    <tr>\n",
       "      <th>396954</th>\n",
       "      <td>15988.0</td>\n",
       "      <td>16951.0</td>\n",
       "      <td>15988.0</td>\n",
       "      <td>15988.0</td>\n",
       "      <td>15988.0</td>\n",
       "      <td>17900.0</td>\n",
       "      <td>16951.0</td>\n",
       "      <td>16951.0</td>\n",
       "      <td>15988.0</td>\n",
       "      <td>15988.0</td>\n",
       "      <td>16468.1</td>\n",
       "    </tr>\n",
       "  </tbody>\n",
       "</table>\n",
       "</div>"
      ],
      "text/plain": [
       "              0        1        2        3        4        5        6  \\\n",
       "257343  14980.0  13993.0  13649.0  13649.0  11788.0  13649.0  13993.0   \n",
       "326011   6492.0   5995.0   5995.0   6987.0   5995.0   5995.0   5995.0   \n",
       "242354  16491.0  16995.0  16491.0  15997.0  15997.0  16491.0  17591.0   \n",
       "266376  21990.0  21990.0  22500.0  21990.0  15900.0  21990.0  22500.0   \n",
       "396954  15988.0  16951.0  15988.0  15988.0  15988.0  17900.0  16951.0   \n",
       "\n",
       "              7        8        9    final  \n",
       "257343  13990.0  13990.0  13993.0  13767.4  \n",
       "326011   6987.0   5995.0   5995.0   6243.1  \n",
       "242354  16995.0  17404.0  16491.0  16694.3  \n",
       "266376  21990.0  15813.0  21990.0  20865.3  \n",
       "396954  16951.0  15988.0  15988.0  16468.1  "
      ]
     },
     "execution_count": 20,
     "metadata": {},
     "output_type": "execute_result"
    }
   ],
   "source": [
    "# Paso 3: agregar las predicciones de los arboles \n",
    "\n",
    "# agregar una columna que promedie las demas columnas para obtener la prediccion del bagging\n",
    "y_pred_bag_manual['final'] = y_pred_bag_manual.mean(axis=1)\n",
    "y_pred_bag_manual.head()"
   ]
  },
  {
   "cell_type": "code",
   "execution_count": 40,
   "metadata": {},
   "outputs": [
    {
     "name": "stdout",
     "output_type": "stream",
     "text": [
      "Error al promediar todos los arboles 1796.4355868399332 \n"
     ]
    }
   ],
   "source": [
    "# medir el desempeño\n",
    "error_bag_manual = np.sqrt(mean_squared_error(y_pred_bag_manual['final'],y_test))\n",
    "\n",
    "errores_bag_manual.append(error_bag_manual)\n",
    "\n",
    "print(f\"Error al promediar todos los arboles {error_bag_manual} \")"
   ]
  },
  {
   "cell_type": "code",
   "execution_count": 41,
   "metadata": {},
   "outputs": [
    {
     "data": {
      "text/plain": [
       "Text(0.5, 1.0, 'Errores de Arboles + Final = Bagging')"
      ]
     },
     "execution_count": 41,
     "metadata": {},
     "output_type": "execute_result"
    },
    {
     "data": {
      "image/png": "[encoded data removed]",
      "text/plain": [
       "<Figure size 640x480 with 1 Axes>"
      ]
     },
     "metadata": {},
     "output_type": "display_data"
    }
   ],
   "source": [
    "import matplotlib.pyplot as plt\n",
    "\n",
    "fig, ax = plt.subplots(1,1)\n",
    "\n",
    "ax.bar(x=y_pred_bag_manual.columns.astype(str), height=errores_bag_manual) \n",
    "ax.set_title(\"Errores de Arboles + Final = Bagging\")"
   ]
  },
  {
   "cell_type": "markdown",
   "metadata": {},
   "source": [
    "### Punto 3 - Bagging con librería\n",
    "\n",
    "En la celda 3, con la librería sklearn, entrenen un modelo bagging con 10 árboles de regresión y el parámetro `max_features` igual a `log(n_features)` y comenten sobre el desempeño del modelo."
   ]
  },
  {
   "cell_type": "code",
   "execution_count": 43,
   "metadata": {},
   "outputs": [
    {
     "data": {
      "text/plain": [
       "array([13311.4,  6774.8, 16692.6, ..., 22596.4, 12990.6, 11965. ])"
      ]
     },
     "execution_count": 43,
     "metadata": {},
     "output_type": "execute_result"
    }
   ],
   "source": [
    "# Celda 3\n",
    "from sklearn.ensemble import BaggingRegressor\n",
    "\n",
    "n_features = X_train.shape[1]\n",
    "max_features = int(np.log(n_features))  # logaritmo natural\n",
    "\n",
    "bagreg = BaggingRegressor(DecisionTreeRegressor(max_features=max_features), n_estimators=10, bootstrap=True, oob_score=True, random_state=1)\n",
    "bagreg.fit(X_train, y_train)\n",
    "y_pred_bag_libreria = bagreg.predict(X_test)\n",
    "y_pred_bag_libreria"
   ]
  },
  {
   "cell_type": "code",
   "execution_count": 44,
   "metadata": {},
   "outputs": [
    {
     "name": "stdout",
     "output_type": "stream",
     "text": [
      "El error de Bagging con libreria sklearn es 1824.292388455352\n"
     ]
    }
   ],
   "source": [
    "# medir el desempeño\n",
    "error_bag_libreria = np.sqrt(mean_squared_error(y_pred_bag_libreria, y_test))\n",
    "print(f\"El error de Bagging con libreria sklearn es {error_bag_libreria}\")"
   ]
  },
  {
   "cell_type": "markdown",
   "metadata": {},
   "source": [
    "### Punto 4 - Random forest con librería\n",
    "\n",
    "En la celda 4, usando la librería sklearn entrenen un modelo de Randon Forest para regresión  y comenten sobre el desempeño del modelo."
   ]
  },
  {
   "cell_type": "code",
   "execution_count": 46,
   "metadata": {},
   "outputs": [],
   "source": [
    "# Celda 4\n"
   ]
  },
  {
   "cell_type": "markdown",
   "metadata": {},
   "source": [
    "### Punto 5 - Calibración de parámetros Random forest\n",
    "\n",
    "En la celda 5, calibren los parámetros max_depth, max_features y n_estimators del modelo de Randon Forest para regresión, comenten sobre el desempeño del modelo y describan cómo cada parámetro afecta el desempeño del modelo."
   ]
  },
  {
   "cell_type": "code",
   "execution_count": 48,
   "metadata": {},
   "outputs": [],
   "source": [
    "# Celda 5\n"
   ]
  },
  {
   "cell_type": "markdown",
   "metadata": {},
   "source": [
    "### Punto 6 - XGBoost con librería\n",
    "\n",
    "En la celda 6 implementen un modelo XGBoost de regresión con la librería sklearn y comenten sobre el desempeño del modelo."
   ]
  },
  {
   "cell_type": "code",
   "execution_count": 50,
   "metadata": {},
   "outputs": [],
   "source": [
    "# Celda 6\n"
   ]
  },
  {
   "cell_type": "markdown",
   "metadata": {},
   "source": [
    "### Punto 7 - Calibración de parámetros XGBoost\n",
    "\n",
    "En la celda 7 calibren los parámetros learning rate, gamma y colsample_bytree del modelo XGBoost para regresión, comenten sobre el desempeño del modelo y describan cómo cada parámetro afecta el desempeño del modelo."
   ]
  },
  {
   "cell_type": "code",
   "execution_count": 52,
   "metadata": {},
   "outputs": [],
   "source": [
    "# Celda 7\n"
   ]
  },
  {
   "cell_type": "markdown",
   "metadata": {},
   "source": [
    "### Punto 8 - Comparación y análisis de resultados\n",
    "En la celda 8 comparen los resultados obtenidos de los diferentes modelos (random forest y XGBoost) y comenten las ventajas del mejor modelo y las desventajas del modelo con el menor desempeño."
   ]
  },
  {
   "cell_type": "code",
   "execution_count": 54,
   "metadata": {},
   "outputs": [],
   "source": [
    "# Celda 8\n"
   ]
  }
 ],
 "metadata": {
  "kernelspec": {
   "display_name": "Python 3 (ipykernel)",
   "language": "python",
   "name": "python3"
  },
  "language_info": {
   "codemirror_mode": {
    "name": "ipython",
    "version": 3
   },
   "file_extension": ".py",
   "mimetype": "text/x-python",
   "name": "python",
   "nbconvert_exporter": "python",
   "pygments_lexer": "ipython3",
   "version": "3.12.3"
  }
 },
 "nbformat": 4,
 "nbformat_minor": 4
}
